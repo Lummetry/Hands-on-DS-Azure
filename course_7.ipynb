{
  "cells": [
    {
      "metadata": {
        "trusted": true
      },
      "cell_type": "code",
      "source": "import pandas as pd\nimport numpy as np\nimport matplotlib.pyplot as plt\n%matplotlib inline\n\nimport os\nimport utils\nimport pickle\nfrom collections import defaultdict, OrderedDict\nutils.set_pretty_prints()",
      "execution_count": 1,
      "outputs": [
        {
          "output_type": "stream",
          "text": "/home/nbuser/anaconda3_501/lib/python3.6/site-packages/matplotlib/font_manager.py:229: UserWarning: Matplotlib is building the font cache using fc-list. This may take a moment.\n  'Matplotlib is building the font cache using fc-list. '\n",
          "name": "stderr"
        }
      ]
    },
    {
      "metadata": {
        "trusted": true
      },
      "cell_type": "code",
      "source": "DATA_FOLDER = './datasets'\nDB = 'all_data.pk'\nfn = os.path.join(DATA_FOLDER, DB)",
      "execution_count": 2,
      "outputs": []
    },
    {
      "metadata": {
        "trusted": true
      },
      "cell_type": "code",
      "source": "import tensorflow as tf\ntf.__version__",
      "execution_count": 3,
      "outputs": [
        {
          "output_type": "execute_result",
          "execution_count": 3,
          "data": {
            "text/plain": "'2.0.0-beta1'"
          },
          "metadata": {}
        }
      ]
    },
    {
      "metadata": {},
      "cell_type": "markdown",
      "source": "# Definirea problemei\n\nVom construi o linie de asamblare (pipeline) de Deep Learning pentru determinarea pretului mediu al unui restaurant in baza unui review scris si postat online.\n\n_Dataset-ul utilizat se bazeaza pe materiale din cursul DS-102 (2019-2020) din cadrul Masterului Facultatii de Automatica si Calculatoare._"
    },
    {
      "metadata": {
        "trusted": true
      },
      "cell_type": "code",
      "source": "with open(fn, 'rb') as file:\n    data = pickle.load(file)\ntype(data)",
      "execution_count": 4,
      "outputs": [
        {
          "output_type": "execute_result",
          "execution_count": 4,
          "data": {
            "text/plain": "list"
          },
          "metadata": {}
        }
      ]
    },
    {
      "metadata": {
        "trusted": true
      },
      "cell_type": "code",
      "source": "len(data)",
      "execution_count": 5,
      "outputs": [
        {
          "output_type": "execute_result",
          "execution_count": 5,
          "data": {
            "text/plain": "200"
          },
          "metadata": {}
        }
      ]
    },
    {
      "metadata": {
        "trusted": true
      },
      "cell_type": "code",
      "source": "data[0]",
      "execution_count": 6,
      "outputs": [
        {
          "output_type": "execute_result",
          "execution_count": 6,
          "data": {
            "text/plain": "{'price': '202 lei',\n 'review': ' \\n Noul restaurant vedeta al Bucurestiului, o constructie geniala de marketing \\n Maize s-a deschis la inceputul lui noiembrie 2017 in mansarda unui (fel de) bloc cu doua etaje de pe eleganta strada Paris, aproape de Piata Dorobantilor. Poti sa o iei, la fel de bine, si ca pe o casa veche din Bucurestiul vechi, facuta fara imaginatie, sau cu economie la arhitect. Casa e renovata recent, iar zona e atat de frumoasa si de aristocratica, incat orice casa de acolo nu poate sa fie decat frumoasa si ea, indiferent cum ar arata si in ce stare ar fi. \\n Daca cei care au construit batrana casa nu au adus arhitecti cu imaginatie, cei care au transformat mansarda in restaurantul Maize au facut-o. Totul arata foarte bine acolo, au pus in valoare fiecare coltisor si detaliu, au reusit sa o umple si de lumina, si au facut loc si bucatariei chiar in mijloc, cu plite si gratare cu tot, dupa cum se vede si in poze, care ma scutesc de mai mult scris. Acolo, sus, au si o mica terasa pe acoperis, foarte frumoasa si ea, desigur, si nu stiu daca a lor va fi si curtea din spate: mare, cu case frumoase in jur, un alt arhitect bun ar putea face acolo o terasa de referinta a orasului. Muzica e data foarte tare, dar presupun ca am fost printre putinii deranjati de asta. \\n Dar sa vorbim despre mancare, pentru ca la Maize, spre diferenta de multe alte restaurante care au investit o avere in amenajare, mancarea e un lucru serios, chiar foarte, foarte serios. Au la Maize un chef, nu stiu cum il cheama, dar cred ca e cel despre care am mai scris pe cand a deschis un restaurant in apropiere de Marriott, ceva cu Funky Cuisine, si apoi l-am vazut, pentru scurt timp, la E3 by Entourage, in Piata Floreasca. Daca e acelasi, deci, atunci e foarte talentat, am scris si atunci asta, si acum nu fac decat sa confirm ca nu a stat pe loc, ci a mers mult mai departe. Si nu se va opri aici, fara indoiala… E unul dintre cei mai creativi si mai potriviti pentru o astfel de meserie din cati bucatari am vazut. \\n Conceptul gastronomic enuntat de Maize, si sustinut de tot ce am vazut in meniu, pe plita si in farfurie, este de „farm to table”, de „bucatarie creativa de ingrediente” romanesti, adica inventarea, recrearea, recompunerea si recombinarea retetelor si crearea altora noi, cam tot ce se poate face cu niste produse si ingrediente de buna calitate venite de la furnizori seriosi si de incredere – atat cat se poate. Putem sa-i spunem, la fel de bine, La Nouvelle Cuisine Roumaine/ Romaneasca, bucatari fina, adica, si atunci ei ar fi pionierii, deschizatorii de drum, fara indoiala. \\n Meniul e cu totul original, nu cred ca e un singur fel acolo cu ceva ce s-a mai facut in alte restaurante. Si in asta sta (o parte din) talentul chefului despre care am vorbit, sa recompuna la nesfarsit produsele si ingredientele si sa puna in farfurie combinatiile cele mai reusite. \\n Ca totul e la vedere la Maize, ca sase bucatari – toti tineri si frumosi, cu fete si tatuaje de pus in revista, nu in ultimul rand – muncesc la fiecare farfurie in parte de parca ar fi intr-un atelier de orfevarie, e iarasi o constructie a unui mare specialist in marketing – daca geniul in marketing nu o fi insusi cheful… \\n Tot ce am mancat la Maize a fost bun si foarte bun. Ne-au dat ca amuse-bouche o zacusca, pusa pe un fel de turta mica. Foarte buna la gust, insa cu zahar in exces, parca mancai Nutella pe paine. Orezul cu parmezan 9si cu galbenus de ou, presupun) foarte bun, de asemenea, tartarul de vita original, bun si el; nu cred ca avea untura sau seu de vita in el, insa asa parea. Un file de dorada cu sos a fost revelatia zilei, foarte buna dorada, excelent sosul, foarte bine facut spanacul. Apoi am primit o ceafa de porc de Mangalita, putin cam prea mult facut, cu o varza tinuta prea mult pe o plita prea incinsa, dupa cum se vede si din poza, cu cateva frunze de ceva prea sarate, iar cu restul legumelor foarte bune si bune facute. Si desrtul a fost foarte bun, si chiar si cafeaua, o surpriza placuta si un lucru prea mult neglijat de catre cei din resturante. \\n Interesant a fost si ca unul dintre bucatari – si nu chelnerul, si aici iarasi se vede intuitia geniala de marketing si cunoasterea detaliilor fine ale client service-ului – venea la masa si explica fiecare fel in parte. \\n Serviciul a fost bun, cu un chelner relaxat si placut la apropiere, dar care nu aflase inca, la o varsta nu tocmai de incepator, ca nu mananca doi oameni cu furculitele direct dintr-o aceeasi farfurie, chiar daca sunt ei prieteni buni, de-o viata. Dar nu s-a prins el nici dupa ce i-am explicat noi cum e cu igiena in farfurie… \\n Preturile sunt normale si rezonabile, daca e sa masuram ce vezi in farfurie si in jur la Maize fata de alte restaurante de pe strazile scumpe ale Bucurestiului. O masa in doi, cu o sticla de vin bun, te costa vreo 4-500 de lei. \\n Maize, baietii lor frumosi si foarte talentati din bucatarie, si, mai ales, farfuriile cu mancaruri ca acelea din pozele noastre, vor deveni in foarte scurt timp vedete de prim-plan ale gastronomiei si mondenitatii bucurestene, fara indoiala. ii voi urmari atent si voi mai scrie despre ei, cu atat mai mult cu cat sunt foarte aproape de mine… (GB – noiembrie 2017) \\n \\n\\t\\t\\t\\tVineri, 1 noiembrie 2018, Asociatia Producatorilor de Salam de Sibiu (APSS) a organizat o cina festiva pentru a sarbatori cei 130 de ani de excelenta si recunoastere europeana de care se bucura acest ...\\t\\t\\t \\n \\n\\t\\t\\t\\tDiferenta dintre marile restaurante si celelalte o vezi, cu adevarat, la legume si la sosuri. Nu la carne, la peste si la ce mai poti primi intr-o farfurie. Replica lui Paul Bocuse, cum ca \"un peste e...\\t\\t\\t \\n \\n\\t\\t\\t\\t Cand am dat Premiile Restocracy pe 2017 pentru restaurantul cu cea mai buna bucatarie romaneasca din Bucuresti, nu am luat in calcul diferentele dintre restaurantele traditionale romanesti, cele cu b...\\t\\t\\t \\n \\n\\t\\t\\t\\tMulte bucatarii nationale au cele doua ramuri bine delimitate: o bucatarie traditionala, populara, si o bucatarie fina. Incepand cu cea mai celebra, mai sofisticata si mai buna din lume, La Cuisine Fr...\\t\\t\\t \\n \\n\\t\\t\\t\\tAlex Petricean este Head Chef-ul restaurantului Maize, deschis anul acesta.\\r\\n\\r\\nRestocracy: De unde, sau de la cine, ati invatat cele mai importante lucruri pe care le stiti despre bucatarie si gatit?\\r...\\t\\t\\t \\n MAIZE si-a deschis, in sfarsit, terasa, dupa foarte multe dificultati tehnice pe care au trebuit sa le depaseasca, fiindca au tinut sa faca si bucatarie acolo, chiar daca una restransa. E in curtea din spate a cladirii din strada Paris 61 in care sunt. Au facut o bucatarie de vara, o bucatarie deschisa. Ce se serveste pe terasa se pregateste direct acolo, un meniu mai restrans decat cel din restaurant. Au vreo zece mese mici, din cate am numarat eu, cu banchete la perete, incap vreo 25 de oameni in toata terasa, cel mult. Pozele sunt de la evenimentul de inaugurare, din 2 septembrie. (GB – sept. 2018)'}"
          },
          "metadata": {}
        }
      ]
    },
    {
      "metadata": {
        "trusted": true
      },
      "cell_type": "code",
      "source": "prices = [x['price'] for x in data]\nreviews = [x['review'] for x in data]",
      "execution_count": 7,
      "outputs": []
    },
    {
      "metadata": {
        "trusted": true
      },
      "cell_type": "code",
      "source": "prices[:10]",
      "execution_count": 8,
      "outputs": [
        {
          "output_type": "execute_result",
          "execution_count": 8,
          "data": {
            "text/plain": "['202 lei',\n '176 lei',\n '187 lei',\n '264 lei',\n '187 lei',\n '160 lei',\n '133 lei',\n '182 lei',\n '256 lei',\n '288 lei']"
          },
          "metadata": {}
        }
      ]
    },
    {
      "metadata": {
        "trusted": true
      },
      "cell_type": "code",
      "source": "reviews[0]",
      "execution_count": 9,
      "outputs": [
        {
          "output_type": "execute_result",
          "execution_count": 9,
          "data": {
            "text/plain": "' \\n Noul restaurant vedeta al Bucurestiului, o constructie geniala de marketing \\n Maize s-a deschis la inceputul lui noiembrie 2017 in mansarda unui (fel de) bloc cu doua etaje de pe eleganta strada Paris, aproape de Piata Dorobantilor. Poti sa o iei, la fel de bine, si ca pe o casa veche din Bucurestiul vechi, facuta fara imaginatie, sau cu economie la arhitect. Casa e renovata recent, iar zona e atat de frumoasa si de aristocratica, incat orice casa de acolo nu poate sa fie decat frumoasa si ea, indiferent cum ar arata si in ce stare ar fi. \\n Daca cei care au construit batrana casa nu au adus arhitecti cu imaginatie, cei care au transformat mansarda in restaurantul Maize au facut-o. Totul arata foarte bine acolo, au pus in valoare fiecare coltisor si detaliu, au reusit sa o umple si de lumina, si au facut loc si bucatariei chiar in mijloc, cu plite si gratare cu tot, dupa cum se vede si in poze, care ma scutesc de mai mult scris. Acolo, sus, au si o mica terasa pe acoperis, foarte frumoasa si ea, desigur, si nu stiu daca a lor va fi si curtea din spate: mare, cu case frumoase in jur, un alt arhitect bun ar putea face acolo o terasa de referinta a orasului. Muzica e data foarte tare, dar presupun ca am fost printre putinii deranjati de asta. \\n Dar sa vorbim despre mancare, pentru ca la Maize, spre diferenta de multe alte restaurante care au investit o avere in amenajare, mancarea e un lucru serios, chiar foarte, foarte serios. Au la Maize un chef, nu stiu cum il cheama, dar cred ca e cel despre care am mai scris pe cand a deschis un restaurant in apropiere de Marriott, ceva cu Funky Cuisine, si apoi l-am vazut, pentru scurt timp, la E3 by Entourage, in Piata Floreasca. Daca e acelasi, deci, atunci e foarte talentat, am scris si atunci asta, si acum nu fac decat sa confirm ca nu a stat pe loc, ci a mers mult mai departe. Si nu se va opri aici, fara indoiala… E unul dintre cei mai creativi si mai potriviti pentru o astfel de meserie din cati bucatari am vazut. \\n Conceptul gastronomic enuntat de Maize, si sustinut de tot ce am vazut in meniu, pe plita si in farfurie, este de „farm to table”, de „bucatarie creativa de ingrediente” romanesti, adica inventarea, recrearea, recompunerea si recombinarea retetelor si crearea altora noi, cam tot ce se poate face cu niste produse si ingrediente de buna calitate venite de la furnizori seriosi si de incredere – atat cat se poate. Putem sa-i spunem, la fel de bine, La Nouvelle Cuisine Roumaine/ Romaneasca, bucatari fina, adica, si atunci ei ar fi pionierii, deschizatorii de drum, fara indoiala. \\n Meniul e cu totul original, nu cred ca e un singur fel acolo cu ceva ce s-a mai facut in alte restaurante. Si in asta sta (o parte din) talentul chefului despre care am vorbit, sa recompuna la nesfarsit produsele si ingredientele si sa puna in farfurie combinatiile cele mai reusite. \\n Ca totul e la vedere la Maize, ca sase bucatari – toti tineri si frumosi, cu fete si tatuaje de pus in revista, nu in ultimul rand – muncesc la fiecare farfurie in parte de parca ar fi intr-un atelier de orfevarie, e iarasi o constructie a unui mare specialist in marketing – daca geniul in marketing nu o fi insusi cheful… \\n Tot ce am mancat la Maize a fost bun si foarte bun. Ne-au dat ca amuse-bouche o zacusca, pusa pe un fel de turta mica. Foarte buna la gust, insa cu zahar in exces, parca mancai Nutella pe paine. Orezul cu parmezan 9si cu galbenus de ou, presupun) foarte bun, de asemenea, tartarul de vita original, bun si el; nu cred ca avea untura sau seu de vita in el, insa asa parea. Un file de dorada cu sos a fost revelatia zilei, foarte buna dorada, excelent sosul, foarte bine facut spanacul. Apoi am primit o ceafa de porc de Mangalita, putin cam prea mult facut, cu o varza tinuta prea mult pe o plita prea incinsa, dupa cum se vede si din poza, cu cateva frunze de ceva prea sarate, iar cu restul legumelor foarte bune si bune facute. Si desrtul a fost foarte bun, si chiar si cafeaua, o surpriza placuta si un lucru prea mult neglijat de catre cei din resturante. \\n Interesant a fost si ca unul dintre bucatari – si nu chelnerul, si aici iarasi se vede intuitia geniala de marketing si cunoasterea detaliilor fine ale client service-ului – venea la masa si explica fiecare fel in parte. \\n Serviciul a fost bun, cu un chelner relaxat si placut la apropiere, dar care nu aflase inca, la o varsta nu tocmai de incepator, ca nu mananca doi oameni cu furculitele direct dintr-o aceeasi farfurie, chiar daca sunt ei prieteni buni, de-o viata. Dar nu s-a prins el nici dupa ce i-am explicat noi cum e cu igiena in farfurie… \\n Preturile sunt normale si rezonabile, daca e sa masuram ce vezi in farfurie si in jur la Maize fata de alte restaurante de pe strazile scumpe ale Bucurestiului. O masa in doi, cu o sticla de vin bun, te costa vreo 4-500 de lei. \\n Maize, baietii lor frumosi si foarte talentati din bucatarie, si, mai ales, farfuriile cu mancaruri ca acelea din pozele noastre, vor deveni in foarte scurt timp vedete de prim-plan ale gastronomiei si mondenitatii bucurestene, fara indoiala. ii voi urmari atent si voi mai scrie despre ei, cu atat mai mult cu cat sunt foarte aproape de mine… (GB – noiembrie 2017) \\n \\n\\t\\t\\t\\tVineri, 1 noiembrie 2018, Asociatia Producatorilor de Salam de Sibiu (APSS) a organizat o cina festiva pentru a sarbatori cei 130 de ani de excelenta si recunoastere europeana de care se bucura acest ...\\t\\t\\t \\n \\n\\t\\t\\t\\tDiferenta dintre marile restaurante si celelalte o vezi, cu adevarat, la legume si la sosuri. Nu la carne, la peste si la ce mai poti primi intr-o farfurie. Replica lui Paul Bocuse, cum ca \"un peste e...\\t\\t\\t \\n \\n\\t\\t\\t\\t Cand am dat Premiile Restocracy pe 2017 pentru restaurantul cu cea mai buna bucatarie romaneasca din Bucuresti, nu am luat in calcul diferentele dintre restaurantele traditionale romanesti, cele cu b...\\t\\t\\t \\n \\n\\t\\t\\t\\tMulte bucatarii nationale au cele doua ramuri bine delimitate: o bucatarie traditionala, populara, si o bucatarie fina. Incepand cu cea mai celebra, mai sofisticata si mai buna din lume, La Cuisine Fr...\\t\\t\\t \\n \\n\\t\\t\\t\\tAlex Petricean este Head Chef-ul restaurantului Maize, deschis anul acesta.\\r\\n\\r\\nRestocracy: De unde, sau de la cine, ati invatat cele mai importante lucruri pe care le stiti despre bucatarie si gatit?\\r...\\t\\t\\t \\n MAIZE si-a deschis, in sfarsit, terasa, dupa foarte multe dificultati tehnice pe care au trebuit sa le depaseasca, fiindca au tinut sa faca si bucatarie acolo, chiar daca una restransa. E in curtea din spate a cladirii din strada Paris 61 in care sunt. Au facut o bucatarie de vara, o bucatarie deschisa. Ce se serveste pe terasa se pregateste direct acolo, un meniu mai restrans decat cel din restaurant. Au vreo zece mese mici, din cate am numarat eu, cu banchete la perete, incap vreo 25 de oameni in toata terasa, cel mult. Pozele sunt de la evenimentul de inaugurare, din 2 septembrie. (GB – sept. 2018)'"
          },
          "metadata": {}
        }
      ]
    },
    {
      "metadata": {
        "trusted": true
      },
      "cell_type": "code",
      "source": "prices[0]",
      "execution_count": 10,
      "outputs": [
        {
          "output_type": "execute_result",
          "execution_count": 10,
          "data": {
            "text/plain": "'202 lei'"
          },
          "metadata": {}
        }
      ]
    },
    {
      "metadata": {
        "trusted": true
      },
      "cell_type": "code",
      "source": "prices[0].split()",
      "execution_count": 11,
      "outputs": [
        {
          "output_type": "execute_result",
          "execution_count": 11,
          "data": {
            "text/plain": "['202', 'lei']"
          },
          "metadata": {}
        }
      ]
    },
    {
      "metadata": {
        "trusted": true
      },
      "cell_type": "code",
      "source": "int(prices[0].split()[0])",
      "execution_count": 12,
      "outputs": [
        {
          "output_type": "execute_result",
          "execution_count": 12,
          "data": {
            "text/plain": "202"
          },
          "metadata": {}
        }
      ]
    },
    {
      "metadata": {
        "trusted": true
      },
      "cell_type": "code",
      "source": "np_prices = np.array([int(x.split()[0]) for x in prices])\nnp_prices.shape",
      "execution_count": 13,
      "outputs": [
        {
          "output_type": "execute_result",
          "execution_count": 13,
          "data": {
            "text/plain": "(200,)"
          },
          "metadata": {}
        }
      ]
    },
    {
      "metadata": {
        "trusted": true
      },
      "cell_type": "code",
      "source": "np_prices[:10]",
      "execution_count": 14,
      "outputs": [
        {
          "output_type": "execute_result",
          "execution_count": 14,
          "data": {
            "text/plain": "array([202, 176, 187, 264, 187, 160, 133, 182, 256, 288])"
          },
          "metadata": {}
        }
      ]
    },
    {
      "metadata": {
        "trusted": true
      },
      "cell_type": "code",
      "source": "text = \" as vrea sa tokenizez un text; corpus, etc.etc. sau ce-o fi!\"\ntext.replace(',',' ').replace(';',' ').replace('.',' ').replace('!',' ')",
      "execution_count": 15,
      "outputs": [
        {
          "output_type": "execute_result",
          "execution_count": 15,
          "data": {
            "text/plain": "' as vrea sa tokenizez un text  corpus  etc etc  sau ce-o fi '"
          },
          "metadata": {}
        }
      ]
    },
    {
      "metadata": {
        "trusted": true
      },
      "cell_type": "code",
      "source": "text.replace(',',' ').replace(';',' ').replace('.',' ').replace('!',' ').split()",
      "execution_count": 16,
      "outputs": [
        {
          "output_type": "execute_result",
          "execution_count": 16,
          "data": {
            "text/plain": "['as',\n 'vrea',\n 'sa',\n 'tokenizez',\n 'un',\n 'text',\n 'corpus',\n 'etc',\n 'etc',\n 'sau',\n 'ce-o',\n 'fi']"
          },
          "metadata": {}
        }
      ]
    },
    {
      "metadata": {
        "trusted": true
      },
      "cell_type": "code",
      "source": "def split_text(text):\n    return text.replace(',',' ').replace(';',' ').replace('.',' ').replace('!',' ').split()\n\ndef gen_vocab(corpus):\n    vocab_base = defaultdict(lambda: 0)\n    for text in corpus:\n        words = split_text(text)\n        for word in words:\n            vocab_base[word] += 1\n    counts = OrderedDict([(w,v) for w,v in sorted(vocab_base.items(), key=lambda x:x[1], reverse=True)])\n    vocab = OrderedDict()\n    vocab['PAD'] = 0\n    for i, word in enumerate(counts):\n        vocab[word] = i + 1\n    vocab['UNK'] = len(vocab)\n    return vocab, counts\n\nvocab, counts = gen_vocab(reviews)",
      "execution_count": 17,
      "outputs": []
    },
    {
      "metadata": {
        "trusted": true
      },
      "cell_type": "code",
      "source": "list(counts.items())[:10]",
      "execution_count": 18,
      "outputs": [
        {
          "output_type": "execute_result",
          "execution_count": 18,
          "data": {
            "text/plain": "[('de', 7644),\n ('si', 6286),\n ('in', 3914),\n ('la', 3651),\n ('cu', 3275),\n ('mai', 3024),\n ('ca', 2726),\n ('sa', 2665),\n ('din', 2231),\n ('care', 2156)]"
          },
          "metadata": {}
        }
      ]
    },
    {
      "metadata": {
        "trusted": true
      },
      "cell_type": "code",
      "source": "list(vocab.items())[:10]",
      "execution_count": 19,
      "outputs": [
        {
          "output_type": "execute_result",
          "execution_count": 19,
          "data": {
            "text/plain": "[('PAD', 0),\n ('de', 1),\n ('si', 2),\n ('in', 3),\n ('la', 4),\n ('cu', 5),\n ('mai', 6),\n ('ca', 7),\n ('sa', 8),\n ('din', 9)]"
          },
          "metadata": {}
        }
      ]
    },
    {
      "metadata": {
        "trusted": true
      },
      "cell_type": "code",
      "source": "vocab['Bucuresti']",
      "execution_count": 20,
      "outputs": [
        {
          "output_type": "execute_result",
          "execution_count": 20,
          "data": {
            "text/plain": "34"
          },
          "metadata": {}
        }
      ]
    },
    {
      "metadata": {
        "trusted": true
      },
      "cell_type": "code",
      "source": "counts['Bucuresti']",
      "execution_count": 21,
      "outputs": [
        {
          "output_type": "execute_result",
          "execution_count": 21,
          "data": {
            "text/plain": "535"
          },
          "metadata": {}
        }
      ]
    },
    {
      "metadata": {
        "trusted": true
      },
      "cell_type": "code",
      "source": "list(counts.items())[-10:]",
      "execution_count": 22,
      "outputs": [
        {
          "output_type": "execute_result",
          "execution_count": 22,
          "data": {
            "text/plain": "[('straduiesti', 1),\n ('oribile', 1),\n ('atos', 1),\n ('liceele', 1),\n ('speriati', 1),\n ('inadecvati', 1),\n ('opreasca', 1),\n ('il/o', 1),\n ('regasiti', 1),\n ('luni…', 1)]"
          },
          "metadata": {}
        }
      ]
    },
    {
      "metadata": {
        "trusted": true
      },
      "cell_type": "code",
      "source": "list(vocab.items())[-10:]",
      "execution_count": 23,
      "outputs": [
        {
          "output_type": "execute_result",
          "execution_count": 23,
          "data": {
            "text/plain": "[('oribile', 16550),\n ('atos', 16551),\n ('liceele', 16552),\n ('speriati', 16553),\n ('inadecvati', 16554),\n ('opreasca', 16555),\n ('il/o', 16556),\n ('regasiti', 16557),\n ('luni…', 16558),\n ('UNK', 16559)]"
          },
          "metadata": {}
        }
      ]
    },
    {
      "metadata": {
        "trusted": true
      },
      "cell_type": "code",
      "source": "word_to_id = vocab\nid_to_word = {v:k for k,v in word_to_id.items()}",
      "execution_count": 24,
      "outputs": []
    },
    {
      "metadata": {
        "trusted": true
      },
      "cell_type": "code",
      "source": "id_to_word[34]",
      "execution_count": 25,
      "outputs": [
        {
          "output_type": "execute_result",
          "execution_count": 25,
          "data": {
            "text/plain": "'Bucuresti'"
          },
          "metadata": {}
        }
      ]
    },
    {
      "metadata": {
        "trusted": true
      },
      "cell_type": "code",
      "source": "lens = [len(text.split()) for text in reviews]\nlens[:10]",
      "execution_count": 26,
      "outputs": [
        {
          "output_type": "execute_result",
          "execution_count": 26,
          "data": {
            "text/plain": "[1216, 1113, 1361, 3355, 313, 956, 1425, 576, 830, 463]"
          },
          "metadata": {}
        }
      ]
    },
    {
      "metadata": {
        "trusted": true
      },
      "cell_type": "code",
      "source": "plt.hist(lens, bins=30)",
      "execution_count": 27,
      "outputs": [
        {
          "output_type": "execute_result",
          "execution_count": 27,
          "data": {
            "text/plain": "(array([ 4., 19., 41., 50., 35.,  7.,  7.,  8.,  5.,  2.,  3.,  1.,  3.,\n         3.,  2.,  1.,  0.,  0.,  0.,  1.,  2.,  0.,  2.,  0.,  2.,  0.,\n         0.,  0.,  0.,  2.]),\n array([  34.,  205.,  376.,  547.,  718.,  889., 1060., 1231., 1402.,\n        1573., 1744., 1915., 2086., 2257., 2428., 2599., 2770., 2941.,\n        3112., 3283., 3454., 3625., 3796., 3967., 4138., 4309., 4480.,\n        4651., 4822., 4993., 5164.]),\n <a list of 30 Patch objects>)"
          },
          "metadata": {}
        },
        {
          "output_type": "display_data",
          "data": {
            "image/png": "[encoded data removed]",
            "text/plain": "<Figure size 432x288 with 1 Axes>"
          },
          "metadata": {
            "needs_background": "light"
          }
        }
      ]
    },
    {
      "metadata": {
        "trusted": true
      },
      "cell_type": "code",
      "source": "[0] * 5 + [1] * 3",
      "execution_count": 28,
      "outputs": [
        {
          "output_type": "execute_result",
          "execution_count": 28,
          "data": {
            "text/plain": "[0, 0, 0, 0, 0, 1, 1, 1]"
          },
          "metadata": {}
        }
      ]
    },
    {
      "metadata": {
        "trusted": true
      },
      "cell_type": "code",
      "source": "UNK_WORD_ID = word_to_id['UNK']\nUNK_WORD_ID ",
      "execution_count": 29,
      "outputs": [
        {
          "output_type": "execute_result",
          "execution_count": 29,
          "data": {
            "text/plain": "16559"
          },
          "metadata": {}
        }
      ]
    },
    {
      "metadata": {
        "trusted": true
      },
      "cell_type": "code",
      "source": "def corpus_to_ids(corpus, max_words_per_sent=500):\n    lines = []\n    for text in corpus:\n        words = split_text(text)\n        ids = [word_to_id.get(word, UNK_WORD_ID) for word in words]\n        ids = ids[:max_words_per_sent]\n        if len(ids) < max_words_per_sent:\n            ids += [0] * (max_words_per_sent - len(ids))\n        lines.append(ids)\n    return np.array(lines)\n\ncorpus = ['ana are mere si pere precum si bistoflaci si crocobauri']\nnp_data = corpus_to_ids(corpus, max_words_per_sent=30)\nnp_data",
      "execution_count": 30,
      "outputs": [
        {
          "output_type": "execute_result",
          "execution_count": 30,
          "data": {
            "text/plain": "array([[16559,    71,  3469,     2, 16559,   564,     2, 16559,     2,\n        16559,     0,     0,     0,     0,     0,     0,     0,     0,\n            0,     0,     0,     0,     0,     0,     0,     0,     0,\n            0,     0,     0]])"
          },
          "metadata": {}
        }
      ]
    },
    {
      "metadata": {
        "trusted": true
      },
      "cell_type": "code",
      "source": "np_data.shape",
      "execution_count": 31,
      "outputs": [
        {
          "output_type": "execute_result",
          "execution_count": 31,
          "data": {
            "text/plain": "(1, 30)"
          },
          "metadata": {}
        }
      ]
    },
    {
      "metadata": {
        "trusted": true
      },
      "cell_type": "code",
      "source": "\" \".join([id_to_word[x] for x in np_data[0]])",
      "execution_count": 32,
      "outputs": [
        {
          "output_type": "execute_result",
          "execution_count": 32,
          "data": {
            "text/plain": "'UNK are mere si UNK precum si UNK si UNK PAD PAD PAD PAD PAD PAD PAD PAD PAD PAD PAD PAD PAD PAD PAD PAD PAD PAD PAD PAD'"
          },
          "metadata": {}
        }
      ]
    },
    {
      "metadata": {
        "trusted": true
      },
      "cell_type": "code",
      "source": "word_to_id.get('mere', UNK_WORD_ID)",
      "execution_count": 33,
      "outputs": [
        {
          "output_type": "execute_result",
          "execution_count": 33,
          "data": {
            "text/plain": "3469"
          },
          "metadata": {}
        }
      ]
    },
    {
      "metadata": {
        "trusted": true
      },
      "cell_type": "code",
      "source": "id_to_word[3469]",
      "execution_count": 34,
      "outputs": [
        {
          "output_type": "execute_result",
          "execution_count": 34,
          "data": {
            "text/plain": "'mere'"
          },
          "metadata": {}
        }
      ]
    },
    {
      "metadata": {
        "trusted": true
      },
      "cell_type": "code",
      "source": "counts['mere']",
      "execution_count": 35,
      "outputs": [
        {
          "output_type": "execute_result",
          "execution_count": 35,
          "data": {
            "text/plain": "5"
          },
          "metadata": {}
        }
      ]
    },
    {
      "metadata": {
        "trusted": true
      },
      "cell_type": "code",
      "source": "np_reviews = corpus_to_ids(reviews)\nnp_reviews.shape",
      "execution_count": 36,
      "outputs": [
        {
          "output_type": "execute_result",
          "execution_count": 36,
          "data": {
            "text/plain": "(200, 500)"
          },
          "metadata": {}
        }
      ]
    },
    {
      "metadata": {
        "trusted": true
      },
      "cell_type": "code",
      "source": "np_reviews[:10,:10]",
      "execution_count": 37,
      "outputs": [
        {
          "output_type": "execute_result",
          "execution_count": 37,
          "data": {
            "text/plain": "array([[2212,   25, 2213,   42,  143,   16, 1361, 3844,    1, 1618],\n       [1736,  172,   15,   13,   30,   32,   70,  324,    4, 1291],\n       [5953,   11,  165,  170,    3,  971,  318,  141,    1,    4],\n       [ 338,  125, 2981,    7,   32,  752,  286, 1876,   14,  334],\n       [9111, 1066,  566, 9112,  159,  981,  238,  409,   67, 2437],\n       [  87,  141,   35,    6,   37,   25,    1,   66,    2,  292],\n       [1387,    6,   45,   62,  383,  902,    9,   34, 4756,   77],\n       [ 405, 3031,    5,   38,    6,   50,  102,    1,   66,    9],\n       [ 286,  950,  363,   38,    6,   68,  292,    1,   30, 1878],\n       [1918,  152, 1772,   32, 4818, 4819,    2, 6195, 6196, 6197]])"
          },
          "metadata": {}
        }
      ]
    },
    {
      "metadata": {},
      "cell_type": "markdown",
      "source": "Acum ne dorim ca pentru fiecare din \"numerele\" ce reprezinta cuvinte sa putem contrui o variabila numerica care sa nu fie considerata ca o simpla variabila continua. Pentru acest lucru este necesara transformarea fiecarei valori de cuvant (de exemplu cuvantul \"mere\" cu valoarea 3469) intr-un VECTOR."
    },
    {
      "metadata": {
        "trusted": true
      },
      "cell_type": "code",
      "source": "dim_vect_space = 50\ntf_inp = tf.keras.layers.Input((500,), name='propozitie')\n\ntf_x = tf.keras.layers.Embedding(len(word_to_id), dim_vect_space)(tf_inp)\n\ntf_x1 = tf.keras.layers.Conv1D(32, 2)(tf_x)\ntf_x1 = tf.keras.layers.Activation('relu')(tf_x1)\ntf_x1 = tf.keras.layers.GlobalMaxPool1D()(tf_x1)\n\ntf_x2 = tf.keras.layers.Conv1D(32, 3)(tf_x)\ntf_x2 = tf.keras.layers.Activation('relu')(tf_x2)\ntf_x2 = tf.keras.layers.GlobalMaxPool1D()(tf_x2)\n\ntf_x = tf.keras.layers.concatenate([tf_x1, tf_x2])\n\ntf_out = tf.keras.layers.Dense(1)(tf_x)\n\nm = tf.keras.models.Model(tf_inp, tf_out)\n\nm.summary()\n\nword_embeds = m.predict(np_reviews[:3])\nword_embeds.shape",
      "execution_count": 43,
      "outputs": [
        {
          "output_type": "stream",
          "text": "Model: \"model_1\"\n__________________________________________________________________________________________________\nLayer (type)                    Output Shape         Param #     Connected to                     \n==================================================================================================\npropozitie (InputLayer)         [(None, 500)]        0                                            \n__________________________________________________________________________________________________\nembedding_5 (Embedding)         (None, 500, 50)      828000      propozitie[0][0]                 \n__________________________________________________________________________________________________\nconv1d_10 (Conv1D)              (None, 499, 32)      3232        embedding_5[0][0]                \n__________________________________________________________________________________________________\nconv1d_11 (Conv1D)              (None, 498, 32)      4832        embedding_5[0][0]                \n__________________________________________________________________________________________________\nactivation_10 (Activation)      (None, 499, 32)      0           conv1d_10[0][0]                  \n__________________________________________________________________________________________________\nactivation_11 (Activation)      (None, 498, 32)      0           conv1d_11[0][0]                  \n__________________________________________________________________________________________________\nglobal_max_pooling1d_4 (GlobalM (None, 32)           0           activation_10[0][0]              \n__________________________________________________________________________________________________\nglobal_max_pooling1d_5 (GlobalM (None, 32)           0           activation_11[0][0]              \n__________________________________________________________________________________________________\nconcatenate_4 (Concatenate)     (None, 64)           0           global_max_pooling1d_4[0][0]     \n                                                                 global_max_pooling1d_5[0][0]     \n__________________________________________________________________________________________________\ndense_1 (Dense)                 (None, 1)            65          concatenate_4[0][0]              \n==================================================================================================\nTotal params: 836,129\nTrainable params: 836,129\nNon-trainable params: 0\n__________________________________________________________________________________________________\n",
          "name": "stdout"
        },
        {
          "output_type": "execute_result",
          "execution_count": 43,
          "data": {
            "text/plain": "(3, 1)"
          },
          "metadata": {}
        }
      ]
    },
    {
      "metadata": {
        "trusted": true
      },
      "cell_type": "code",
      "source": "id_to_word[2212]",
      "execution_count": null,
      "outputs": []
    },
    {
      "metadata": {
        "trusted": true
      },
      "cell_type": "code",
      "source": "word_embeds[0][0]",
      "execution_count": null,
      "outputs": []
    },
    {
      "metadata": {
        "trusted": true
      },
      "cell_type": "code",
      "source": "np_prices[:10]",
      "execution_count": null,
      "outputs": []
    },
    {
      "metadata": {
        "trusted": true
      },
      "cell_type": "code",
      "source": "m.compile(loss='mae', optimizer='adam', metrics=['mae'])",
      "execution_count": 44,
      "outputs": []
    },
    {
      "metadata": {
        "trusted": true
      },
      "cell_type": "code",
      "source": "m.fit(x=np_reviews, y=np_prices, epochs=100)",
      "execution_count": 45,
      "outputs": [
        {
          "output_type": "stream",
          "text": "Train on 200 samples\nEpoch 1/100\n200/200 [==============================] - 20s 101ms/sample - loss: 144.3232 - mae: 144.3232\nEpoch 2/100\n200/200 [==============================] - 3s 15ms/sample - loss: 143.9954 - mae: 143.9955\nEpoch 3/100\n200/200 [==============================] - 3s 14ms/sample - loss: 143.6530 - mae: 143.6530\nEpoch 4/100\n200/200 [==============================] - 2s 9ms/sample - loss: 143.2608 - mae: 143.2608\nEpoch 5/100\n200/200 [==============================] - 2s 9ms/sample - loss: 142.7897 - mae: 142.7897\nEpoch 6/100\n200/200 [==============================] - 2s 9ms/sample - loss: 142.2163 - mae: 142.2163\nEpoch 7/100\n200/200 [==============================] - 2s 9ms/sample - loss: 141.5141 - mae: 141.5141\nEpoch 8/100\n200/200 [==============================] - 2s 8ms/sample - loss: 140.6641 - mae: 140.6642\nEpoch 9/100\n200/200 [==============================] - 2s 9ms/sample - loss: 139.6095 - mae: 139.6095\nEpoch 10/100\n200/200 [==============================] - 2s 9ms/sample - loss: 138.3054 - mae: 138.3054\nEpoch 11/100\n200/200 [==============================] - 2s 9ms/sample - loss: 136.7133 - mae: 136.7133\nEpoch 12/100\n200/200 [==============================] - 2s 8ms/sample - loss: 134.7673 - mae: 134.7673\nEpoch 13/100\n200/200 [==============================] - 2s 9ms/sample - loss: 132.4277 - mae: 132.4277\nEpoch 14/100\n200/200 [==============================] - 3s 14ms/sample - loss: 129.6157 - mae: 129.6157\nEpoch 15/100\n200/200 [==============================] - 2s 9ms/sample - loss: 126.2948 - mae: 126.2948\nEpoch 16/100\n200/200 [==============================] - 2s 9ms/sample - loss: 122.3709 - mae: 122.3709\nEpoch 17/100\n200/200 [==============================] - 2s 9ms/sample - loss: 117.7956 - mae: 117.7956\nEpoch 18/100\n200/200 [==============================] - 2s 9ms/sample - loss: 112.4708 - mae: 112.4708\nEpoch 19/100\n200/200 [==============================] - 2s 8ms/sample - loss: 106.3777 - mae: 106.3777\nEpoch 20/100\n200/200 [==============================] - 2s 9ms/sample - loss: 99.3921 - mae: 99.3921\nEpoch 21/100\n200/200 [==============================] - 2s 9ms/sample - loss: 91.4568 - mae: 91.4568\nEpoch 22/100\n200/200 [==============================] - 2s 9ms/sample - loss: 82.5197 - mae: 82.5197\nEpoch 23/100\n200/200 [==============================] - 2s 9ms/sample - loss: 72.6381 - mae: 72.6381\nEpoch 24/100\n200/200 [==============================] - 2s 9ms/sample - loss: 62.1000 - mae: 62.1000\nEpoch 25/100\n200/200 [==============================] - 2s 9ms/sample - loss: 52.1807 - mae: 52.1807\nEpoch 26/100\n200/200 [==============================] - 8s 40ms/sample - loss: 43.4984 - mae: 43.4984\nEpoch 27/100\n200/200 [==============================] - 2s 10ms/sample - loss: 38.8472 - mae: 38.8472\nEpoch 28/100\n200/200 [==============================] - 2s 10ms/sample - loss: 36.7539 - mae: 36.7539\nEpoch 29/100\n200/200 [==============================] - 2s 8ms/sample - loss: 36.5450 - mae: 36.5450\nEpoch 30/100\n200/200 [==============================] - 2s 9ms/sample - loss: 36.3585 - mae: 36.3585\nEpoch 31/100\n200/200 [==============================] - 3s 13ms/sample - loss: 35.8250 - mae: 35.8250\nEpoch 32/100\n200/200 [==============================] - 2s 12ms/sample - loss: 35.1628 - mae: 35.1628\nEpoch 33/100\n200/200 [==============================] - 2s 9ms/sample - loss: 34.6648 - mae: 34.6648\nEpoch 34/100\n200/200 [==============================] - 2s 9ms/sample - loss: 34.2736 - mae: 34.2736\nEpoch 35/100\n200/200 [==============================] - 2s 9ms/sample - loss: 33.8332 - mae: 33.8332\nEpoch 36/100\n200/200 [==============================] - 2s 9ms/sample - loss: 33.3474 - mae: 33.3474\nEpoch 37/100\n200/200 [==============================] - 2s 9ms/sample - loss: 32.9614 - mae: 32.9614\nEpoch 38/100\n200/200 [==============================] - 2s 8ms/sample - loss: 32.5346 - mae: 32.5346\nEpoch 39/100\n200/200 [==============================] - 2s 9ms/sample - loss: 32.0777 - mae: 32.0777\nEpoch 40/100\n200/200 [==============================] - 2s 9ms/sample - loss: 31.6584 - mae: 31.6584\nEpoch 41/100\n200/200 [==============================] - 2s 9ms/sample - loss: 31.2115 - mae: 31.2115\nEpoch 42/100\n200/200 [==============================] - 2s 9ms/sample - loss: 30.8270 - mae: 30.8270\nEpoch 43/100\n200/200 [==============================] - 2s 9ms/sample - loss: 30.4046 - mae: 30.4046\nEpoch 44/100\n200/200 [==============================] - 2s 9ms/sample - loss: 29.9644 - mae: 29.9644\nEpoch 45/100\n200/200 [==============================] - 2s 9ms/sample - loss: 29.5045 - mae: 29.5045\nEpoch 46/100\n200/200 [==============================] - 2s 9ms/sample - loss: 29.0576 - mae: 29.0576\nEpoch 47/100\n200/200 [==============================] - 2s 9ms/sample - loss: 28.6074 - mae: 28.6074\nEpoch 48/100\n200/200 [==============================] - 2s 9ms/sample - loss: 28.1740 - mae: 28.1740\nEpoch 49/100\n200/200 [==============================] - 2s 9ms/sample - loss: 27.7167 - mae: 27.7167\nEpoch 50/100\n200/200 [==============================] - 2s 8ms/sample - loss: 27.2786 - mae: 27.2786\nEpoch 51/100\n200/200 [==============================] - 2s 9ms/sample - loss: 26.8423 - mae: 26.8423\nEpoch 52/100\n200/200 [==============================] - 2s 9ms/sample - loss: 26.4202 - mae: 26.4202\nEpoch 53/100\n200/200 [==============================] - 2s 9ms/sample - loss: 25.9005 - mae: 25.9005\nEpoch 54/100\n200/200 [==============================] - 2s 9ms/sample - loss: 25.3997 - mae: 25.3997\nEpoch 55/100\n200/200 [==============================] - 2s 9ms/sample - loss: 24.8777 - mae: 24.8777\nEpoch 56/100\n200/200 [==============================] - 2s 9ms/sample - loss: 24.2879 - mae: 24.2879\nEpoch 57/100\n200/200 [==============================] - 2s 9ms/sample - loss: 23.7549 - mae: 23.7549\nEpoch 58/100\n200/200 [==============================] - 2s 9ms/sample - loss: 23.2642 - mae: 23.2642\nEpoch 59/100\n200/200 [==============================] - 2s 9ms/sample - loss: 22.6679 - mae: 22.6679\nEpoch 60/100\n200/200 [==============================] - 2s 8ms/sample - loss: 22.1866 - mae: 22.1866\nEpoch 61/100\n200/200 [==============================] - 2s 9ms/sample - loss: 21.6257 - mae: 21.6257\nEpoch 62/100\n200/200 [==============================] - 2s 9ms/sample - loss: 21.0985 - mae: 21.0985\nEpoch 63/100\n200/200 [==============================] - 2s 9ms/sample - loss: 20.5471 - mae: 20.5471\nEpoch 64/100\n200/200 [==============================] - 2s 10ms/sample - loss: 20.0069 - mae: 20.0069\nEpoch 65/100\n200/200 [==============================] - 2s 9ms/sample - loss: 19.5830 - mae: 19.5830\nEpoch 66/100\n200/200 [==============================] - 2s 9ms/sample - loss: 19.1839 - mae: 19.1839\nEpoch 67/100\n200/200 [==============================] - 2s 9ms/sample - loss: 18.5541 - mae: 18.5541\nEpoch 68/100\n200/200 [==============================] - 2s 9ms/sample - loss: 18.1702 - mae: 18.1702\nEpoch 69/100\n200/200 [==============================] - 2s 9ms/sample - loss: 17.5365 - mae: 17.5365\nEpoch 70/100\n200/200 [==============================] - 2s 8ms/sample - loss: 16.9664 - mae: 16.9664\nEpoch 71/100\n200/200 [==============================] - 2s 8ms/sample - loss: 16.4902 - mae: 16.4902\nEpoch 72/100\n200/200 [==============================] - 2s 9ms/sample - loss: 16.0187 - mae: 16.0187\nEpoch 73/100\n200/200 [==============================] - 2s 9ms/sample - loss: 15.5080 - mae: 15.5080\nEpoch 74/100\n200/200 [==============================] - 2s 9ms/sample - loss: 15.0424 - mae: 15.0424\nEpoch 75/100\n200/200 [==============================] - 2s 9ms/sample - loss: 14.5593 - mae: 14.5593\nEpoch 76/100\n200/200 [==============================] - 2s 9ms/sample - loss: 14.0676 - mae: 14.0676\nEpoch 77/100\n200/200 [==============================] - 2s 9ms/sample - loss: 13.7010 - mae: 13.7010\nEpoch 78/100\n200/200 [==============================] - 2s 9ms/sample - loss: 13.2607 - mae: 13.2607\nEpoch 79/100\n200/200 [==============================] - 2s 9ms/sample - loss: 12.6691 - mae: 12.6691\nEpoch 80/100\n200/200 [==============================] - 2s 9ms/sample - loss: 12.1998 - mae: 12.1998\nEpoch 81/100\n",
          "name": "stdout"
        },
        {
          "output_type": "stream",
          "text": "200/200 [==============================] - 2s 9ms/sample - loss: 11.8461 - mae: 11.8461\nEpoch 82/100\n200/200 [==============================] - 2s 9ms/sample - loss: 11.4636 - mae: 11.4636\nEpoch 83/100\n200/200 [==============================] - 2s 9ms/sample - loss: 11.1145 - mae: 11.1145\nEpoch 84/100\n200/200 [==============================] - 2s 8ms/sample - loss: 10.7213 - mae: 10.7213\nEpoch 85/100\n200/200 [==============================] - 2s 9ms/sample - loss: 10.4230 - mae: 10.4230\nEpoch 86/100\n200/200 [==============================] - 2s 9ms/sample - loss: 10.3046 - mae: 10.3046\nEpoch 87/100\n200/200 [==============================] - 2s 9ms/sample - loss: 9.9707 - mae: 9.9707\nEpoch 88/100\n200/200 [==============================] - 2s 9ms/sample - loss: 9.8813 - mae: 9.8813\nEpoch 89/100\n200/200 [==============================] - 2s 9ms/sample - loss: 9.4024 - mae: 9.4024\nEpoch 90/100\n200/200 [==============================] - 2s 8ms/sample - loss: 9.1010 - mae: 9.1010\nEpoch 91/100\n200/200 [==============================] - 2s 9ms/sample - loss: 8.7894 - mae: 8.7894\nEpoch 92/100\n200/200 [==============================] - 2s 9ms/sample - loss: 8.5952 - mae: 8.5952\nEpoch 93/100\n200/200 [==============================] - 2s 9ms/sample - loss: 8.3095 - mae: 8.3095\nEpoch 94/100\n200/200 [==============================] - 2s 9ms/sample - loss: 8.1205 - mae: 8.1205\nEpoch 95/100\n200/200 [==============================] - 2s 9ms/sample - loss: 7.9406 - mae: 7.9406\nEpoch 96/100\n200/200 [==============================] - 2s 9ms/sample - loss: 7.6941 - mae: 7.6941\nEpoch 97/100\n200/200 [==============================] - 2s 9ms/sample - loss: 7.5849 - mae: 7.5849\nEpoch 98/100\n200/200 [==============================] - 2s 8ms/sample - loss: 7.6627 - mae: 7.6627\nEpoch 99/100\n200/200 [==============================] - 2s 9ms/sample - loss: 7.6287 - mae: 7.6287\nEpoch 100/100\n200/200 [==============================] - 2s 8ms/sample - loss: 7.3376 - mae: 7.3376\n",
          "name": "stdout"
        },
        {
          "output_type": "execute_result",
          "execution_count": 45,
          "data": {
            "text/plain": "<tensorflow.python.keras.callbacks.History at 0x7f3b883bc358>"
          },
          "metadata": {}
        }
      ]
    },
    {
      "metadata": {
        "trusted": true
      },
      "cell_type": "code",
      "source": "m",
      "execution_count": 46,
      "outputs": [
        {
          "output_type": "execute_result",
          "execution_count": 46,
          "data": {
            "text/plain": "<tensorflow.python.keras.engine.training.Model at 0x7f3b82ba3630>"
          },
          "metadata": {}
        }
      ]
    },
    {
      "metadata": {
        "trusted": true
      },
      "cell_type": "code",
      "source": "review = \"am fost la un restaurant cu muzica placuta si personal dragut. ciorba lor de legume era delicioasa. fructele lor de mare erau din alta lume. caviarul a fost delicios. am uitat sa mentionez ca restaurantul era pe Calea Dorobanti\"\npayload = corpus_to_ids([review])\nm.predict(payload)",
      "execution_count": 55,
      "outputs": [
        {
          "output_type": "execute_result",
          "execution_count": 55,
          "data": {
            "text/plain": "array([[84.27]], dtype=float32)"
          },
          "metadata": {}
        }
      ]
    },
    {
      "metadata": {
        "trusted": true
      },
      "cell_type": "code",
      "source": "#Lista cu ce avem de dus in azure:\n#1. modelul antrenat: m\n#2. corpus_to_ids si metodele adiacente (toata inlantuirea acolo unde este cazul)\n#3. counts + vocab",
      "execution_count": null,
      "outputs": []
    },
    {
      "metadata": {
        "trusted": true
      },
      "cell_type": "code",
      "source": "#salvare model\nm.save('models/restocracy.h5')",
      "execution_count": 56,
      "outputs": []
    },
    {
      "metadata": {
        "trusted": true
      },
      "cell_type": "code",
      "source": "#salvare counts + vocab\nimport pickle\nwith open('models/counts.pkl', 'wb') as handle:\n    pickle.dump(counts, handle)\n    \nwith open('models/vocab.pkl', 'wb') as handle:\n    pickle.dump(vocab, handle)",
      "execution_count": 57,
      "outputs": []
    },
    {
      "metadata": {
        "trusted": true
      },
      "cell_type": "code",
      "source": "type(counts)",
      "execution_count": 58,
      "outputs": [
        {
          "output_type": "execute_result",
          "execution_count": 58,
          "data": {
            "text/plain": "collections.OrderedDict"
          },
          "metadata": {}
        }
      ]
    },
    {
      "metadata": {
        "trusted": true
      },
      "cell_type": "code",
      "source": "type(vocab)",
      "execution_count": 59,
      "outputs": [
        {
          "output_type": "execute_result",
          "execution_count": 59,
          "data": {
            "text/plain": "collections.OrderedDict"
          },
          "metadata": {}
        }
      ]
    },
    {
      "metadata": {
        "trusted": true
      },
      "cell_type": "code",
      "source": "",
      "execution_count": null,
      "outputs": []
    }
  ],
  "metadata": {
    "kernelspec": {
      "name": "python36",
      "display_name": "Python 3.6",
      "language": "python"
    },
    "language_info": {
      "mimetype": "text/x-python",
      "nbconvert_exporter": "python",
      "name": "python",
      "pygments_lexer": "ipython3",
      "version": "3.6.6",
      "file_extension": ".py",
      "codemirror_mode": {
        "version": 3,
        "name": "ipython"
      }
    }
  },
  "nbformat": 4,
  "nbformat_minor": 4
}