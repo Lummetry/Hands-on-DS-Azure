{
  "cells": [
    {
      "metadata": {
        "trusted": true
      },
      "cell_type": "code",
      "source": "import pandas as pd\nimport numpy as np\nimport matplotlib.pyplot as plt\n%matplotlib inline\n\nimport utils\nutils.set_pretty_prints()",
      "execution_count": 1,
      "outputs": []
    },
    {
      "metadata": {
        "trusted": true
      },
      "cell_type": "code",
      "source": "#SDK deployment\nimport azureml",
      "execution_count": 2,
      "outputs": []
    },
    {
      "metadata": {
        "trusted": true
      },
      "cell_type": "code",
      "source": "#1. Stabilirea comunicarii intre notebook -> Resource group-ul creat in portal.azure.com (HODS)\nfrom azureml.core import Workspace\nws = Workspace.from_config(path='azureml/config.json')",
      "execution_count": 3,
      "outputs": []
    },
    {
      "metadata": {
        "trusted": true
      },
      "cell_type": "code",
      "source": "#2. Definirea asseturilor necesare ce vor fi transferate catre portal.azure.com\nfrom azureml.core.model import Model\nmodel = Model.register(workspace=ws, \n                      model_path='models',\n                      model_name='restocracy',\n                      tags={'restocracy': 'demo'},\n                      description='Model trained on restocracy reviews')",
      "execution_count": 4,
      "outputs": [
        {
          "output_type": "stream",
          "text": "Registering model restocracy\n",
          "name": "stdout"
        }
      ]
    },
    {
      "metadata": {
        "trusted": true,
        "scrolled": true
      },
      "cell_type": "code",
      "source": "#3. Inregistrarea environmentului de inferenta\nfrom azureml.core.environment import Environment\nhods_env = Environment.from_conda_specification(name='hods_env', file_path='azureml/config.yaml')\nhods_env.register(workspace=ws)",
      "execution_count": 5,
      "outputs": [
        {
          "output_type": "execute_result",
          "execution_count": 5,
          "data": {
            "text/plain": "{\n    \"name\": \"hods_env\",\n    \"version\": \"2\",\n    \"environmentVariables\": {\n        \"EXAMPLE_ENV_VAR\": \"EXAMPLE_VALUE\"\n    },\n    \"python\": {\n        \"userManagedDependencies\": false,\n        \"interpreterPath\": \"python\",\n        \"condaDependenciesFile\": null,\n        \"baseCondaEnvironment\": null,\n        \"condaDependencies\": {\n            \"dependencies\": [\n                \"python=3.6.2\",\n                \"tensorflow>=2.0.0\",\n                {\n                    \"pip\": [\n                        \"azureml-defaults>=1.0.45\"\n                    ]\n                }\n            ],\n            \"name\": \"azureml_394b48ebc78f500e7797523b76f34ef3\"\n        }\n    },\n    \"docker\": {\n        \"enabled\": false,\n        \"baseImage\": \"mcr.microsoft.com/azureml/base:intelmpi2018.3-ubuntu16.04\",\n        \"baseDockerfile\": null,\n        \"sharedVolumes\": true,\n        \"shmSize\": null,\n        \"arguments\": [],\n        \"baseImageRegistry\": {\n            \"address\": null,\n            \"username\": null,\n            \"password\": null\n        }\n    },\n    \"spark\": {\n        \"repositories\": [],\n        \"packages\": [],\n        \"precachePackages\": true\n    },\n    \"databricks\": {\n        \"mavenLibraries\": [],\n        \"pypiLibraries\": [],\n        \"rcranLibraries\": [],\n        \"jarLibraries\": [],\n        \"eggLibraries\": []\n    },\n    \"inferencingStackVersion\": null\n}"
          },
          "metadata": {}
        }
      ]
    },
    {
      "metadata": {
        "trusted": true
      },
      "cell_type": "code",
      "source": "#4. Define inference confing\nfrom azureml.core.model import InferenceConfig\ninf_env = Environment.get(workspace=ws, name='hods_env', version='2')\ninference_config = InferenceConfig(entry_script='azureml/score.py', environment=inf_env)\n",
      "execution_count": 14,
      "outputs": []
    },
    {
      "metadata": {
        "trusted": true,
        "scrolled": false
      },
      "cell_type": "code",
      "source": "#5. Deploy in ACI (Azure Container Instances)\nfrom azureml.core.webservice import AciWebservice, Webservice\n\ndeployment_config = AciWebservice.deploy_configuration(cpu_cores=1, memory_gb=1)\nservice = Model.deploy(ws, 'aciservice1', [model], inference_config, deployment_config)\nservice.wait_for_deployment(show_output=True)\nprint(service.state)",
      "execution_count": 11,
      "outputs": [
        {
          "output_type": "stream",
          "text": "Running.....................................................................................................................\nSucceeded\nACI service creation operation finished, operation \"Succeeded\"\nHealthy\n",
          "name": "stdout"
        }
      ]
    },
    {
      "metadata": {
        "trusted": true
      },
      "cell_type": "code",
      "source": "inference_config",
      "execution_count": 8,
      "outputs": [
        {
          "output_type": "execute_result",
          "execution_count": 8,
          "data": {
            "text/plain": "InferenceConfig(entry_script=azureml/score.py, runtime=None, conda_file=None, extra_docker_file_steps=None, source_directory=None, enable_gpu=None, base_image=None, base_image_registry=<azureml.core.container_registry.ContainerRegistry object at 0x7f818c1f9748>)"
          },
          "metadata": {}
        }
      ]
    },
    {
      "metadata": {
        "trusted": true
      },
      "cell_type": "code",
      "source": "#6. Test the webservice\nimport requests\nimport json\nheaders = {'Content-Type': 'application/json'}\npayload = \"am fost la un restaurant cu muzica placuta si personal dragut. ciorba lor de legume era delicioasa. fructele lor de mare erau din alta lume. caviarul a fost delicios. am uitat sa mentionez ca restaurantul era pe Calea Dorobanti\"\nresponse = requests.post(service.scoring_uri, data=payload, headers=headers)\nprint(service.scoring_uri)\nprint(response.status_code)\nprint(response.elapsed)\nprint(response)\nprint(response.json())",
      "execution_count": 17,
      "outputs": [
        {
          "output_type": "stream",
          "text": "http://6e3445cb-c25d-474f-a8a3-7c554bb04efc.westeurope.azurecontainer.io/score\n200\n0:00:00.299337\n<Response [200]>\nExpecting value: line 1 column 1 (char 0)\n",
          "name": "stdout"
        }
      ]
    },
    {
      "metadata": {
        "trusted": true
      },
      "cell_type": "code",
      "source": "service.update(models=[model], inference_config=inference_config)\nprint(service.state)\nprint(service.get_logs)",
      "execution_count": 15,
      "outputs": [
        {
          "output_type": "stream",
          "text": "Healthy\n<bound method Webservice.get_logs of AciWebservice(workspace=Workspace.create(name='Lecture8', subscription_id='21862221-de06-45b9-b99b-94e0a3c69193', resource_group='HODS'), name=aciservice1, image_id=None, compute_type=None, state=ACI, scoring_uri=Healthy, tags=http://6e3445cb-c25d-474f-a8a3-7c554bb04efc.westeurope.azurecontainer.io/score, properties={})>\n",
          "name": "stdout"
        }
      ]
    },
    {
      "metadata": {
        "trusted": true
      },
      "cell_type": "code",
      "source": "#6. Test the webservice\nimport requests\nimport json\nheaders = {'Content-Type': 'application/json'}\npayload = json.dumps({\"text\": \"am fost la un restaurant cu muzica placuta si personal dragut. ciorba lor de legume era delicioasa. fructele lor de mare erau din alta lume. caviarul a fost delicios. am uitat sa mentionez ca restaurantul era pe Calea Dorobanti\"})\nresponse = requests.post(service.scoring_uri, data=payload, headers=headers)\nprint(service.scoring_uri)\nprint(response.status_code)\nprint(response.elapsed)\nprint(response.json())",
      "execution_count": 26,
      "outputs": [
        {
          "output_type": "stream",
          "text": "http://6e3445cb-c25d-474f-a8a3-7c554bb04efc.westeurope.azurecontainer.io/score\n200\n0:00:00.326545\n[[84.26679229736328]]\n",
          "name": "stdout"
        }
      ]
    },
    {
      "metadata": {
        "trusted": true
      },
      "cell_type": "code",
      "source": "service.scoring_uri",
      "execution_count": 19,
      "outputs": [
        {
          "output_type": "execute_result",
          "execution_count": 19,
          "data": {
            "text/plain": "'http://6e3445cb-c25d-474f-a8a3-7c554bb04efc.westeurope.azurecontainer.io/score'"
          },
          "metadata": {}
        }
      ]
    },
    {
      "metadata": {
        "trusted": true
      },
      "cell_type": "code",
      "source": "type(response.json())",
      "execution_count": 24,
      "outputs": [
        {
          "output_type": "execute_result",
          "execution_count": 24,
          "data": {
            "text/plain": "str"
          },
          "metadata": {}
        }
      ]
    },
    {
      "metadata": {
        "trusted": true
      },
      "cell_type": "code",
      "source": "",
      "execution_count": null,
      "outputs": []
    }
  ],
  "metadata": {
    "kernelspec": {
      "name": "python36",
      "display_name": "Python 3.6",
      "language": "python"
    },
    "language_info": {
      "mimetype": "text/x-python",
      "nbconvert_exporter": "python",
      "name": "python",
      "pygments_lexer": "ipython3",
      "version": "3.6.6",
      "file_extension": ".py",
      "codemirror_mode": {
        "version": 3,
        "name": "ipython"
      }
    }
  },
  "nbformat": 4,
  "nbformat_minor": 4
}